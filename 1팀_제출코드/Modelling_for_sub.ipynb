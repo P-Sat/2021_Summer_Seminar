{
 "cells": [
  {
   "cell_type": "markdown",
   "metadata": {
    "id": "IkY5aMfPGk0F"
   },
   "source": [
    "### 1. 데이터 불러오기, 라이브러리 설치 "
   ]
  },
  {
   "cell_type": "code",
   "execution_count": 1,
   "metadata": {
    "colab": {
     "base_uri": "https://localhost:8080/"
    },
    "executionInfo": {
     "elapsed": 33455,
     "status": "ok",
     "timestamp": 1628409151867,
     "user": {
      "displayName": "Jinmo Lee",
      "photoUrl": "https://lh3.googleusercontent.com/a-/AOh14Gi3uyHOWoO8CsikkBRRUhBw5GNVpf7sVI49Lads=s64",
      "userId": "05361241896227181689"
     },
     "user_tz": -540
    },
    "id": "2ldIkJmUGxhd",
    "outputId": "c3f3f5a4-8396-4b99-d4de-874c0d9c70c2"
   },
   "outputs": [
    {
     "name": "stdout",
     "output_type": "stream",
     "text": [
      "Mounted at /content/drive\n"
     ]
    },
    {
     "name": "stderr",
     "output_type": "stream",
     "text": [
      "/usr/local/lib/python3.7/dist-packages/sklearn/externals/six.py:31: FutureWarning: The module is deprecated in version 0.21 and will be removed in version 0.23 since we've dropped support for Python 2.7. Please rely on the official version of six (https://pypi.org/project/six/).\n",
      "  \"(https://pypi.org/project/six/).\", FutureWarning)\n",
      "/usr/local/lib/python3.7/dist-packages/sklearn/utils/deprecation.py:144: FutureWarning: The sklearn.neighbors.base module is  deprecated in version 0.22 and will be removed in version 0.24. The corresponding classes / functions should instead be imported from sklearn.neighbors. Anything that cannot be imported from sklearn.neighbors is now part of the private API.\n",
      "  warnings.warn(message, FutureWarning)\n"
     ]
    }
   ],
   "source": [
    "# 드라이브 마운트\n",
    "\n",
    "from google.colab import drive\n",
    "drive.mount('/content/drive')\n",
    "\n",
    "# 라이브러리 설치\n",
    "\n",
    "import pandas as pd\n",
    "import numpy as np\n",
    "from sklearn.preprocessing import StandardScaler\n",
    "from sklearn.pipeline import Pipeline\n",
    "from sklearn.model_selection import train_test_split, GridSearchCV\n",
    "from sklearn.linear_model import Lasso\n",
    "from sklearn.model_selection import cross_val_score\n",
    "from sklearn.model_selection import RepeatedStratifiedKFold\n",
    "from sklearn.tree import DecisionTreeClassifier\n",
    "from imblearn.pipeline import Pipeline\n",
    "from sklearn.metrics import f1_score\n",
    "from lightgbm import LGBMClassifier\n",
    "import sklearn.metrics as metrics\n",
    "import lightgbm as lgb\n",
    "\n",
    "# 데이터 불러오기\n",
    "\n",
    "train=pd.read_csv(\"/content/drive/Shareddrives/🍕PSAT_Summer_Seminar_Team1🍕/Data/train.csv\")\n",
    "test=pd.read_csv(\"/content/drive/Shareddrives/🍕PSAT_Summer_Seminar_Team1🍕/Data/test.csv\")\n",
    "\n",
    "# Train data의 Feature 변수와 Target 변수 따로 저장\n",
    "\n",
    "X=train.iloc[:,1:]\n",
    "y=train['target'"
   ]
  },
  {
   "cell_type": "code",
   "execution_count": 7,
   "metadata": {
    "executionInfo": {
     "elapsed": 390,
     "status": "ok",
     "timestamp": 1628409155397,
     "user": {
      "displayName": "Jinmo Lee",
      "photoUrl": "https://lh3.googleusercontent.com/a-/AOh14Gi3uyHOWoO8CsikkBRRUhBw5GNVpf7sVI49Lads=s64",
      "userId": "05361241896227181689"
     },
     "user_tz": -540
    },
    "id": "_Y1X5ma7HFLs"
   },
   "outputs": [],
   "source": [
    "# 소요시간 측정을 위한 타이머 세팅 \n",
    "\n",
    "from datetime import datetime\n",
    "\n",
    "def timer(start_time=None):\n",
    "    if not start_time:\n",
    "        start_time = datetime.now()\n",
    "        return start_time\n",
    "    elif start_time:\n",
    "        thour, temp_sec = divmod((datetime.now() - start_time).total_seconds(), 3600)\n",
    "        tmin, tsec = divmod(temp_sec, 60)\n",
    "        print('\\n Time taken: %i hours %i minutes and %s seconds.' % (thour, tmin, round(tsec, 2)))"
   ]
  },
  {
   "cell_type": "markdown",
   "metadata": {
    "id": "t450jI32HLUU"
   },
   "source": [
    "### 2. Made Rebalancing Method (모델 불균형 해결을 위한 샘플링 함수) "
   ]
  },
  {
   "cell_type": "code",
   "execution_count": 8,
   "metadata": {
    "executionInfo": {
     "elapsed": 1025,
     "status": "ok",
     "timestamp": 1628409160676,
     "user": {
      "displayName": "Jinmo Lee",
      "photoUrl": "https://lh3.googleusercontent.com/a-/AOh14Gi3uyHOWoO8CsikkBRRUhBw5GNVpf7sVI49Lads=s64",
      "userId": "05361241896227181689"
     },
     "user_tz": -540
    },
    "id": "xWIbwnBHHQIO"
   },
   "outputs": [],
   "source": [
    "def numeric_cols(input_df):\n",
    "\n",
    "    # train data에서 수치형 변수만 뽑아냄\n",
    "\n",
    "    print(input_df.select_dtypes('number').columns)\n",
    "    sel_train = input_df.select_dtypes('number').columns.values\n",
    "    print(type(sel_train))\n",
    "\n",
    "    # 수치형 변수만 갖는 데이터프레임 생성\n",
    "\n",
    "    train = input_df[sel_train]\n",
    "    print(train.describe())\n",
    "    return train\n",
    "\n",
    "def balanced_sampling(input_df, factor): \n",
    "    \n",
    "    # 앞서 만든 함수로 수치형 변수만 갖는 데이터프레임 불러옴\n",
    "\n",
    "    train = numeric_cols(input_df)\n",
    "    y= train['target']\n",
    "    \n",
    "    # Target이 1인 row와 Target이 0인 row를 나누고 각각의 row 개수를 셈\n",
    "\n",
    "    X_one = train[train.target==1]\n",
    "    X_zero= train[train.target==0]\n",
    "    total_target = X_one.shape\n",
    "    print(\"Target Size : \",total_target[1],total_target[0])\n",
    "\n",
    "    # 여기서 factor는 함수 호출시 입력받는 숫자\n",
    "\n",
    "    scale_factor = factor\n",
    "\n",
    "    # Target이 0인 row 개수가 더 많으므로 factor 곱하기 Target이 1인 row 개수만큼만 Target이 0인 row에서 샘플링\n",
    "\n",
    "    X_zero1=X_zero.sample(scale_factor*total_target[0], random_state = 1)\n",
    "\n",
    "    # 샘플링된 row와 Target이 1인 row를 합쳐서 새로운 데이터프레임 생성\n",
    "\n",
    "    X=pd.concat([X_one,X_zero1], ignore_index=True)\n",
    "    y= X['target']\n",
    "    print(X.shape)\n",
    "    print(X.sample(10))\n",
    "\n",
    "    \n",
    "    X.drop([\"target\"],axis=1,inplace=True)\n",
    "    \n",
    "    # 새로 만든 데이터프레임으로 train test split\n",
    "    \n",
    "    X_train, X_test, y_train, y_test = train_test_split(X, y, stratify=y,  test_size=0.25, random_state = 1)\n",
    "    return X_train, X_test, y_train, y_test"
   ]
  },
  {
   "cell_type": "markdown",
   "metadata": {
    "id": "XBflDSFFKbeI"
   },
   "source": [
    "### 3. 모델링 "
   ]
  },
  {
   "cell_type": "code",
   "execution_count": 9,
   "metadata": {
    "colab": {
     "base_uri": "https://localhost:8080/"
    },
    "executionInfo": {
     "elapsed": 19924,
     "status": "ok",
     "timestamp": 1628409184364,
     "user": {
      "displayName": "Jinmo Lee",
      "photoUrl": "https://lh3.googleusercontent.com/a-/AOh14Gi3uyHOWoO8CsikkBRRUhBw5GNVpf7sVI49Lads=s64",
      "userId": "05361241896227181689"
     },
     "user_tz": -540
    },
    "id": "RTKa8AaiJ4o1",
    "outputId": "e0a19b25-d9ae-44b4-fd55-54fd3082f760"
   },
   "outputs": [
    {
     "name": "stdout",
     "output_type": "stream",
     "text": [
      "Index(['target', 'var_0', 'var_1', 'var_2', 'var_3', 'var_4', 'var_5', 'var_6',\n",
      "       'var_7', 'var_8',\n",
      "       ...\n",
      "       'var_190', 'var_191', 'var_192', 'var_193', 'var_194', 'var_195',\n",
      "       'var_196', 'var_197', 'var_198', 'var_199'],\n",
      "      dtype='object', length=201)\n",
      "<class 'numpy.ndarray'>\n",
      "             target         var_0         var_1         var_2         var_3  \\\n",
      "count  28000.000000  28000.000000  28000.000000  28000.000000  28000.000000   \n",
      "mean       0.100321     10.685383     -1.610482     10.737660      6.786323   \n",
      "std        0.300433      3.065415      4.046000      2.632142      2.029132   \n",
      "min        0.000000      1.283200    -13.688700      2.615000      0.255000   \n",
      "25%        0.000000      8.451800     -4.713100      8.761400      5.269275   \n",
      "50%        0.000000     10.525650     -1.570650     10.591150      6.816400   \n",
      "75%        0.000000     12.763600      1.364000     12.527875      8.289725   \n",
      "max        1.000000     19.701100     10.335600     18.412700     12.706900   \n",
      "\n",
      "              var_4         var_5         var_6         var_7         var_8  \\\n",
      "count  28000.000000  28000.000000  28000.000000  28000.000000  28000.000000   \n",
      "mean      11.068797     -4.992471      5.408673     16.538694      0.268403   \n",
      "std        1.623331      7.844979      0.864566      3.427088      3.336072   \n",
      "min        5.562000    -32.562600      2.629600      5.349700    -10.265300   \n",
      "25%        9.871850    -11.108750      4.767100     13.905850     -2.310650   \n",
      "50%       11.086950     -4.725100      5.385050     16.461400      0.379650   \n",
      "75%       12.254125      0.971425      6.001925     19.110825      2.939100   \n",
      "max       15.667500     16.786700      8.433000     27.025700     10.137700   \n",
      "\n",
      "       ...       var_190       var_191       var_192       var_193  \\\n",
      "count  ...  28000.000000  28000.000000  28000.000000  28000.000000   \n",
      "mean   ...      3.254510      7.470319      1.924875      3.343122   \n",
      "std    ...      4.577463      3.009444      1.478273      4.000684   \n",
      "min    ...    -11.909700     -1.168500     -3.515900    -10.845500   \n",
      "25%    ...     -0.065650      5.209650      0.889900      0.578975   \n",
      "50%    ...      3.212850      7.361150      1.894750      3.399550   \n",
      "75%    ...      6.457425      9.521150      2.931825      6.237500   \n",
      "max    ...     16.756300     16.520500      7.611600     17.239300   \n",
      "\n",
      "            var_194       var_195       var_196       var_197       var_198  \\\n",
      "count  28000.000000  28000.000000  28000.000000  28000.000000  28000.000000   \n",
      "mean      18.007143     -0.143027      2.326555      8.905414     15.877575   \n",
      "std        3.131109      1.440412      5.451162      0.923743      3.004946   \n",
      "min        8.907400     -4.911600    -13.589100      6.047600      7.193200   \n",
      "25%       15.655475     -1.185275     -1.934050      8.246100     13.824100   \n",
      "50%       17.977500     -0.177400      2.426700      8.882550     15.944500   \n",
      "75%       20.414725      0.840725      6.616725      9.592025     18.063550   \n",
      "max       26.983300      4.272900     17.161400     11.827700     25.323000   \n",
      "\n",
      "            var_199  \n",
      "count  28000.000000  \n",
      "mean      -3.356697  \n",
      "std       10.391826  \n",
      "min      -38.852800  \n",
      "25%      -11.219350  \n",
      "50%       -2.868650  \n",
      "75%        4.766275  \n",
      "max       26.468800  \n",
      "\n",
      "[8 rows x 201 columns]\n",
      "Target Size :  201 2809\n",
      "(11236, 201)\n",
      "       target    var_0   var_1    var_2    var_3    var_4    var_5   var_6  \\\n",
      "10304       0   8.4718 -4.1442  14.8351   5.5380   9.1662   4.0289  4.5370   \n",
      "3430        0  10.3660 -5.3113  11.3268   3.8919  13.3159  -8.5698  5.3765   \n",
      "2152        1   9.3570 -0.5293  16.2768   4.6617  13.9430 -10.6045  4.4071   \n",
      "4605        0   9.9714 -2.1518  10.6305   3.7666  13.8856 -17.1033  5.6507   \n",
      "9192        0   8.3204 -3.4114  12.0167  10.3611  11.0051  -9.5194  4.3099   \n",
      "2906        0   5.5340 -1.3469   7.3913   5.9756   9.0577 -20.7548  5.5931   \n",
      "7946        0  12.3260  2.4377  11.0042   4.3383  14.4949 -10.2219  4.3143   \n",
      "4564        0   9.7395 -3.1351  18.0225   6.4342  13.5455 -11.0396  4.0707   \n",
      "1963        1   7.8065  6.1835  17.6289   8.0741  12.0879  -2.3134  4.8187   \n",
      "2991        0   7.2047 -6.7116  10.0692   6.3995   9.0235  -0.4836  5.3744   \n",
      "\n",
      "         var_7   var_8  ...  var_190  var_191  var_192  var_193  var_194  \\\n",
      "10304  12.2719 -3.2661  ...   2.4631   6.6101   3.5379   8.7973  18.5194   \n",
      "3430   17.6614  0.8034  ...   1.0918   8.7486   0.7895   6.1869  14.4125   \n",
      "2152   16.5887  2.0981  ...   7.7866   2.7126   2.5609   3.8124  15.5788   \n",
      "4605   14.6936 -1.8084  ...  -1.2946   8.2759   1.4642  -0.5636  13.4283   \n",
      "9192   14.7990 -0.4881  ...   2.7722   6.2095   3.0768   6.7257  16.4057   \n",
      "2906   16.1374 -2.0294  ...   1.1691   6.6059   2.9881  -0.5958  12.5592   \n",
      "7946   15.4514  4.3203  ...   2.8577  10.7628   0.1087   1.0379  16.8312   \n",
      "4564   19.7998  5.4403  ...  -0.2363   5.4376   0.1620   4.0715  10.9010   \n",
      "1963   11.1513  3.7728  ...   2.3205   9.1300   0.4096   8.5887  22.1126   \n",
      "2991   18.0261  2.4852  ...   2.3149   9.0571  -0.5837   5.1125  24.0299   \n",
      "\n",
      "       var_195  var_196  var_197  var_198  var_199  \n",
      "10304   1.9430  -1.3114   8.0437  15.3109  -3.5394  \n",
      "3430   -0.4417   6.1471   9.7535  15.5808  -7.8289  \n",
      "2152    0.3367  -0.2248   8.3356  16.2112   6.7414  \n",
      "4605   -1.7549  -1.5038   8.0433  20.0302  12.2906  \n",
      "9192   -0.8843  -6.5688   8.5993  20.7655   8.8840  \n",
      "2906    0.6095   7.1308   7.9802  13.9844   0.7012  \n",
      "7946   -2.0632   5.4915   6.9084  19.2126   7.8089  \n",
      "4564    0.1763   6.2271   9.5909  16.9436  10.9019  \n",
      "1963   -1.7664  -6.4144   9.6140  19.1338 -28.5142  \n",
      "2991   -1.1931   2.3208   9.7306  13.6542  12.1533  \n",
      "\n",
      "[10 rows x 201 columns]\n",
      "[LightGBM] [Warning] boosting is set with boosting_type=gbdt, will be overridden by boost=gbdt. Current value: boosting=gbdt\n",
      "[LightGBM] [Warning] Unknown parameter: gamma\n",
      "[LightGBM] [Warning] seed is set=500, random_state=1 will be ignored. Current value: seed=500\n",
      "[LightGBM] [Warning] feature_fraction is set=1, colsample_bytree=1 will be ignored. Current value: feature_fraction=1\n",
      "[LightGBM] [Warning] bagging_fraction is set=0.85, subsample=0.8 will be ignored. Current value: bagging_fraction=0.85\n",
      "[LightGBM] [Warning] num_threads is set=8, n_jobs=-1 will be ignored. Current value: num_threads=8\n",
      "[LightGBM] [Warning] bagging_freq is set=1, subsample_freq=0 will be ignored. Current value: bagging_freq=1\n",
      "\n",
      " Time taken: 0 hours 0 minutes and 5.17 seconds.\n",
      "Accuracy: 0.8380206479174084\n",
      "F1_score: 0.6391752577319588\n"
     ]
    }
   ],
   "source": [
    "# Data Rebalancing\n",
    "\n",
    "X_train, X_test, y_train, y_test = balanced_sampling(train,3)\n",
    "\n",
    "# RandomSearchCV로 찾은 최적파라미터들로 모델 생성\n",
    "\n",
    "lgb = LGBMClassifier(bagging_fraction=0.85, bagging_freq=1, boost='gbdt',\n",
    "               boosting_type='gbdt', class_weight=None, colsample_bytree=1,\n",
    "               feature_fraction=1, gamma=1, importance_type='split',\n",
    "               learning_rate=0.1, max_bin=256, max_depth=1,\n",
    "               min_child_samples=153, min_child_weight=0.1, min_split_gain=0.0,\n",
    "               n_estimators=4000, n_jobs=-1, num_leaves=4, num_threads=8,\n",
    "               objective='binary', random_state=1, reg_alpha=0.1,\n",
    "               reg_lambda=0, seed=500, silent=True, subsample=0.8,\n",
    "               subsample_for_bin=200000, subsample_freq=0)\n",
    "\n",
    "# 모델 적합\n",
    "\n",
    "start_time = timer(None)\n",
    "lgb.fit(X_train, y_train)\n",
    "y_pred = lgb.predict(X_test)\n",
    "timer(start_time)\n",
    "\n",
    "# Validation set으로 계산한 정확도와 f1 score\n",
    "\n",
    "print(\"Accuracy:\",metrics.accuracy_score(y_test, y_pred))\n",
    "print('F1_score:', metrics.f1_score(y_test, y_pred, labels=None, pos_label=1, average='binary', sample_weight=None, zero_division='warn'))"
   ]
  }
 ],
 "metadata": {
  "colab": {
   "authorship_tag": "ABX9TyMHXIfDVZZLIhaf/WFSXfj2",
   "name": "Modelling_for_sub.ipynb",
   "provenance": []
  },
  "kernelspec": {
   "display_name": "Python 3",
   "language": "python",
   "name": "python3"
  },
  "language_info": {
   "codemirror_mode": {
    "name": "ipython",
    "version": 3
   },
   "file_extension": ".py",
   "mimetype": "text/x-python",
   "name": "python",
   "nbconvert_exporter": "python",
   "pygments_lexer": "ipython3",
   "version": "3.9.4"
  }
 },
 "nbformat": 4,
 "nbformat_minor": 1
}
