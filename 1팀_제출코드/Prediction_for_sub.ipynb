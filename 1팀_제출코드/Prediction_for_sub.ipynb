{
 "cells": [
  {
   "cell_type": "code",
   "execution_count": 1,
   "metadata": {},
   "outputs": [],
   "source": [
    "import time\n",
    "\n",
    "import pandas as pd\n",
    "import numpy as np\n",
    "from sklearn.preprocessing import StandardScaler\n",
    "from sklearn.pipeline import Pipeline\n",
    "from sklearn.model_selection import train_test_split, GridSearchCV\n",
    "from sklearn.linear_model import Lasso\n",
    "from sklearn.model_selection import cross_val_score\n",
    "from sklearn.model_selection import RepeatedStratifiedKFold\n",
    "from sklearn.tree import DecisionTreeClassifier\n",
    "from imblearn.pipeline import Pipeline\n",
    "from sklearn.metrics import f1_score\n",
    "from lightgbm import LGBMClassifier\n",
    "import sklearn.metrics as metrics\n",
    "import lightgbm as lgb\n",
    "\n",
    "tic = time.time()\n",
    "\n",
    "train = pd.read_csv('Data/train.csv')\n",
    "test = pd.read_csv('Data/test.csv')"
   ]
  },
  {
   "cell_type": "markdown",
   "metadata": {
    "id": "VwOhmdrsLgAh"
   },
   "source": [
    "### 1. 데이터 불러오기, 라이브러리 설치"
   ]
  },
  {
   "cell_type": "markdown",
   "metadata": {
    "id": "HPF33MxfL8g0"
   },
   "source": [
    "### 2. 모델 학습 (Modelling_for_sub 반복)"
   ]
  },
  {
   "cell_type": "code",
   "execution_count": 2,
   "metadata": {
    "colab": {
     "base_uri": "https://localhost:8080/"
    },
    "executionInfo": {
     "elapsed": 20089,
     "status": "ok",
     "timestamp": 1628409491097,
     "user": {
      "displayName": "Jinmo Lee",
      "photoUrl": "https://lh3.googleusercontent.com/a-/AOh14Gi3uyHOWoO8CsikkBRRUhBw5GNVpf7sVI49Lads=s64",
      "userId": "05361241896227181689"
     },
     "user_tz": -540
    },
    "id": "xWIbwnBHHQIO",
    "outputId": "08824222-ad40-4f31-813d-397f233f9a3f"
   },
   "outputs": [
    {
     "name": "stdout",
     "output_type": "stream",
     "text": [
      "Index(['target', 'var_0', 'var_1', 'var_2', 'var_3', 'var_4', 'var_5', 'var_6',\n",
      "       'var_7', 'var_8',\n",
      "       ...\n",
      "       'var_190', 'var_191', 'var_192', 'var_193', 'var_194', 'var_195',\n",
      "       'var_196', 'var_197', 'var_198', 'var_199'],\n",
      "      dtype='object', length=201)\n",
      "<class 'numpy.ndarray'>\n",
      "             target         var_0         var_1         var_2         var_3  \\\n",
      "count  28000.000000  28000.000000  28000.000000  28000.000000  28000.000000   \n",
      "mean       0.100321     10.685383     -1.610482     10.737660      6.786323   \n",
      "std        0.300433      3.065415      4.046000      2.632142      2.029132   \n",
      "min        0.000000      1.283200    -13.688700      2.615000      0.255000   \n",
      "25%        0.000000      8.451800     -4.713100      8.761400      5.269275   \n",
      "50%        0.000000     10.525650     -1.570650     10.591150      6.816400   \n",
      "75%        0.000000     12.763600      1.364000     12.527875      8.289725   \n",
      "max        1.000000     19.701100     10.335600     18.412700     12.706900   \n",
      "\n",
      "              var_4         var_5         var_6         var_7         var_8  \\\n",
      "count  28000.000000  28000.000000  28000.000000  28000.000000  28000.000000   \n",
      "mean      11.068797     -4.992471      5.408673     16.538694      0.268403   \n",
      "std        1.623331      7.844979      0.864566      3.427088      3.336072   \n",
      "min        5.562000    -32.562600      2.629600      5.349700    -10.265300   \n",
      "25%        9.871850    -11.108750      4.767100     13.905850     -2.310650   \n",
      "50%       11.086950     -4.725100      5.385050     16.461400      0.379650   \n",
      "75%       12.254125      0.971425      6.001925     19.110825      2.939100   \n",
      "max       15.667500     16.786700      8.433000     27.025700     10.137700   \n",
      "\n",
      "       ...       var_190       var_191       var_192       var_193  \\\n",
      "count  ...  28000.000000  28000.000000  28000.000000  28000.000000   \n",
      "mean   ...      3.254510      7.470319      1.924875      3.343122   \n",
      "std    ...      4.577463      3.009444      1.478273      4.000684   \n",
      "min    ...    -11.909700     -1.168500     -3.515900    -10.845500   \n",
      "25%    ...     -0.065650      5.209650      0.889900      0.578975   \n",
      "50%    ...      3.212850      7.361150      1.894750      3.399550   \n",
      "75%    ...      6.457425      9.521150      2.931825      6.237500   \n",
      "max    ...     16.756300     16.520500      7.611600     17.239300   \n",
      "\n",
      "            var_194       var_195       var_196       var_197       var_198  \\\n",
      "count  28000.000000  28000.000000  28000.000000  28000.000000  28000.000000   \n",
      "mean      18.007143     -0.143027      2.326555      8.905414     15.877575   \n",
      "std        3.131109      1.440412      5.451162      0.923743      3.004946   \n",
      "min        8.907400     -4.911600    -13.589100      6.047600      7.193200   \n",
      "25%       15.655475     -1.185275     -1.934050      8.246100     13.824100   \n",
      "50%       17.977500     -0.177400      2.426700      8.882550     15.944500   \n",
      "75%       20.414725      0.840725      6.616725      9.592025     18.063550   \n",
      "max       26.983300      4.272900     17.161400     11.827700     25.323000   \n",
      "\n",
      "            var_199  \n",
      "count  28000.000000  \n",
      "mean      -3.356697  \n",
      "std       10.391826  \n",
      "min      -38.852800  \n",
      "25%      -11.219350  \n",
      "50%       -2.868650  \n",
      "75%        4.766275  \n",
      "max       26.468800  \n",
      "\n",
      "[8 rows x 201 columns]\n",
      "Target Size :  201 2809\n",
      "(11236, 201)\n",
      "       target    var_0   var_1    var_2   var_3    var_4    var_5   var_6  \\\n",
      "3017        0  10.6956  5.5115  13.0547  8.0448   8.7458  -2.7884  4.6376   \n",
      "10712       0   6.2011 -6.0418   9.7556  5.5480   9.1415  -6.5251  5.6153   \n",
      "5555        0   7.6694 -6.5901  11.0997  4.3637  13.3145  -1.6127  4.9647   \n",
      "2612        1  10.9117 -5.7047  16.2034  4.1526  14.2674 -18.2069  5.3767   \n",
      "3203        0  11.0100 -8.2000   7.2187  9.3468   8.5904  -7.9936  5.9011   \n",
      "1324        1   5.5583  3.0692   9.1442  8.6432  10.4798  -7.2902  5.8101   \n",
      "3099        0   9.9542 -4.3328   3.1921  6.4251  11.5747  -0.9375  5.0942   \n",
      "4442        0  10.5278  1.1185  14.0492  4.6953   8.9322 -16.2304  4.4897   \n",
      "8518        0   6.8711 -8.6802  12.0074  9.5424  10.1282   2.6379  4.4420   \n",
      "2119        1  13.6973  5.2746  17.5034  8.0566  11.4011 -17.3255  4.4295   \n",
      "\n",
      "         var_7   var_8  ...  var_190  var_191  var_192  var_193  var_194  \\\n",
      "3017   19.4647  3.6498  ...   9.5898  13.4357   2.8438   9.1119  21.7986   \n",
      "10712  10.5602  3.1243  ...  11.8684   8.9249   0.4087   5.8031  19.4743   \n",
      "5555   16.1632 -1.7570  ...   1.2921   3.0912  -0.1984   1.3995  16.0237   \n",
      "2612   18.1890  3.0420  ...   5.0089   8.6696  -0.6834   7.7047  14.5035   \n",
      "3203   23.3714  0.0253  ...   8.8519   5.6340   3.7680   2.8928  20.0717   \n",
      "1324   19.2472 -5.1441  ...   4.0415  14.6863   2.6403   1.8119  17.0795   \n",
      "3099   16.9856 -0.0268  ...  -1.8862   8.7618  -0.4301   1.6116  20.0563   \n",
      "4442   14.9888 -3.9643  ...  -0.6539   6.2598   1.4149  -1.7923  17.1963   \n",
      "8518   15.4391  1.3906  ...   9.7044   6.9498   3.2661   7.5993  16.2512   \n",
      "2119   18.4423  4.1303  ...   0.0365  15.2714   0.4300   0.4070  18.0829   \n",
      "\n",
      "       var_195  var_196  var_197  var_198  var_199  \n",
      "3017   -0.2780  -4.3772  10.0457  16.2692  -1.9808  \n",
      "10712   1.8282   5.8108   8.5528  14.2470 -17.6867  \n",
      "5555   -0.3528   7.6185   8.0293  13.0714  -0.3417  \n",
      "2612   -0.7293   9.0633   9.0496  15.5981   5.8324  \n",
      "3203   -2.5332  -3.3617  10.2278  11.5790 -10.6383  \n",
      "1324   -3.1469  13.8188   7.7580  21.9249 -22.3415  \n",
      "3099   -1.1564   7.2826   9.8532  11.1795  -7.4727  \n",
      "4442   -0.4135   5.3220   8.4902  19.3845  -6.4263  \n",
      "8518    1.3228   3.7225   8.2435  16.0163  -5.6130  \n",
      "2119   -1.5894  12.0027   7.9268  13.4615 -27.6271  \n",
      "\n",
      "[10 rows x 201 columns]\n",
      "[LightGBM] [Warning] boosting is set with boosting_type=gbdt, will be overridden by boost=gbdt. Current value: boosting=gbdt\n",
      "[LightGBM] [Warning] Unknown parameter: gamma\n",
      "[LightGBM] [Warning] seed is set=500, random_state=1 will be ignored. Current value: seed=500\n",
      "[LightGBM] [Warning] feature_fraction is set=1, colsample_bytree=1 will be ignored. Current value: feature_fraction=1\n",
      "[LightGBM] [Warning] bagging_fraction is set=0.85, subsample=0.8 will be ignored. Current value: bagging_fraction=0.85\n",
      "[LightGBM] [Warning] num_threads is set=8, n_jobs=-1 will be ignored. Current value: num_threads=8\n",
      "[LightGBM] [Warning] bagging_freq is set=1, subsample_freq=0 will be ignored. Current value: bagging_freq=1\n"
     ]
    },
    {
     "data": {
      "text/plain": [
       "LGBMClassifier(bagging_fraction=0.85, bagging_freq=1, boost='gbdt',\n",
       "               colsample_bytree=1, feature_fraction=1, gamma=1, max_bin=256,\n",
       "               max_depth=1, min_child_samples=153, min_child_weight=0.1,\n",
       "               n_estimators=4000, num_leaves=4, num_threads=8,\n",
       "               objective='binary', random_state=1, reg_alpha=0.1, reg_lambda=0,\n",
       "               seed=500, subsample=0.8)"
      ]
     },
     "execution_count": 2,
     "metadata": {},
     "output_type": "execute_result"
    }
   ],
   "source": [
    "def numeric_cols(input_df):\n",
    "\n",
    "    # train data에서 수치형 변수만 뽑아냄\n",
    "\n",
    "    print(input_df.select_dtypes('number').columns)\n",
    "    sel_train = input_df.select_dtypes('number').columns.values\n",
    "    print(type(sel_train))\n",
    "\n",
    "    # 수치형 변수만 갖는 데이터프레임 생성\n",
    "\n",
    "    train = input_df[sel_train]\n",
    "    print(train.describe())\n",
    "    return train\n",
    "\n",
    "def balanced_sampling(input_df, factor): \n",
    "    \n",
    "    # 앞서 만든 함수로 수치형 변수만 갖는 데이터프레임 불러옴\n",
    "\n",
    "    train = numeric_cols(input_df)\n",
    "    y= train['target']\n",
    "    \n",
    "    # Target이 1인 row와 Target이 0인 row를 나누고 각각의 row 개수를 셈\n",
    "\n",
    "    X_one = train[train.target==1]\n",
    "    X_zero= train[train.target==0]\n",
    "    total_target = X_one.shape\n",
    "    print(\"Target Size : \",total_target[1],total_target[0])\n",
    "\n",
    "    # 여기서 factor는 함수 호출시 입력받는 숫자\n",
    "\n",
    "    scale_factor = factor\n",
    "\n",
    "    # Target이 0인 row 개수가 더 많으므로 factor 곱하기 Target이 1인 row 개수만큼만 Target이 0인 row에서 샘플링\n",
    "\n",
    "    X_zero1=X_zero.sample(scale_factor*total_target[0], random_state = 1)\n",
    "\n",
    "    # 샘플링된 row와 Target이 1인 row를 합쳐서 새로운 데이터프레임 생성\n",
    "\n",
    "    X=pd.concat([X_one,X_zero1], ignore_index=True)\n",
    "    y= X['target']\n",
    "    print(X.shape)\n",
    "    print(X.sample(10))\n",
    "\n",
    "    \n",
    "    X.drop([\"target\"],axis=1,inplace=True)\n",
    "    \n",
    "    # 새로 만든 데이터프레임으로 train test split\n",
    "    \n",
    "    X_train, X_test, y_train, y_test = train_test_split(X, y, stratify=y,  test_size=0.25, random_state = 1)\n",
    "    return X_train, X_test, y_train, y_test\n",
    "\n",
    "# Data Rebalancing\n",
    "\n",
    "X_train, X_test, y_train, y_test = balanced_sampling(train,3)\n",
    "\n",
    "# RandomSearchCV로 찾은 최적파라미터들로 모델 생성\n",
    "\n",
    "lgb = LGBMClassifier(bagging_fraction=0.85, bagging_freq=1, boost='gbdt',\n",
    "               boosting_type='gbdt', class_weight=None, colsample_bytree=1,\n",
    "               feature_fraction=1, gamma=1, importance_type='split',\n",
    "               learning_rate=0.1, max_bin=256, max_depth=1,\n",
    "               min_child_samples=153, min_child_weight=0.1, min_split_gain=0.0,\n",
    "               n_estimators=4000, n_jobs=-1, num_leaves=4, num_threads=8,\n",
    "               objective='binary', random_state=1, reg_alpha=0.1,\n",
    "               reg_lambda=0, seed=500, silent=True, subsample=0.8,\n",
    "               subsample_for_bin=200000, subsample_freq=0)\n",
    "\n",
    "# 모델 학습\n",
    "\n",
    "lgb.fit(X_train, y_train)"
   ]
  },
  {
   "cell_type": "markdown",
   "metadata": {
    "id": "XBflDSFFKbeI"
   },
   "source": [
    "### 3. 모델 적합 "
   ]
  },
  {
   "cell_type": "code",
   "execution_count": 3,
   "metadata": {
    "id": "WX2yogjxNvoA"
   },
   "outputs": [],
   "source": [
    "y_pred = lgb.predict(test)"
   ]
  },
  {
   "cell_type": "markdown",
   "metadata": {
    "id": "HBdTrPceMHeC"
   },
   "source": [
    "### 4. 제출용 데이터 저장"
   ]
  },
  {
   "cell_type": "code",
   "execution_count": 4,
   "metadata": {
    "id": "rES6qmcDMKIY"
   },
   "outputs": [],
   "source": [
    "df=pd.DataFrame({'target':y_pred})\n",
    "df=df.reset_index(drop=False)\n",
    "df['index']=df['index'].apply(lambda x: x+1)\n",
    "df.columns=['id','target']\n",
    "df.to_csv(\"TEAM1_for_submission.csv\",encoding='utf-8-sig',index=False)"
   ]
  },
  {
   "cell_type": "code",
   "execution_count": 5,
   "metadata": {},
   "outputs": [
    {
     "name": "stdout",
     "output_type": "stream",
     "text": [
      "5.966607332229614\n"
     ]
    }
   ],
   "source": [
    "toc = time.time()\n",
    "print(toc-tic)"
   ]
  }
 ],
 "metadata": {
  "colab": {
   "authorship_tag": "ABX9TyNR2sRkmRKjELzYw6nd006v",
   "collapsed_sections": [],
   "name": "Prediction_for_sub.ipynb",
   "provenance": []
  },
  "kernelspec": {
   "display_name": "Python 3",
   "language": "python",
   "name": "python3"
  },
  "language_info": {
   "codemirror_mode": {
    "name": "ipython",
    "version": 3
   },
   "file_extension": ".py",
   "mimetype": "text/x-python",
   "name": "python",
   "nbconvert_exporter": "python",
   "pygments_lexer": "ipython3",
   "version": "3.9.4"
  }
 },
 "nbformat": 4,
 "nbformat_minor": 1
}
