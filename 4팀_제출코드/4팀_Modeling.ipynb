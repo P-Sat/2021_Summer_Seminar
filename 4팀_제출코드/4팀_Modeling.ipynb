{
 "cells": [
  {
   "cell_type": "markdown",
   "metadata": {
    "id": "GsyW7yY_PHTF"
   },
   "source": [
    "# 1. 디렉토리, 라이브러리, 데이터 불러오기"
   ]
  },
  {
   "cell_type": "code",
   "execution_count": 3,
   "metadata": {
    "colab": {
     "base_uri": "https://localhost:8080/"
    },
    "id": "Kn3l5jZU8GVZ",
    "outputId": "60b8a999-7622-4d31-e797-7a32b7589c74"
   },
   "outputs": [
    {
     "name": "stdout",
     "output_type": "stream",
     "text": [
      "/content/drive/MyDrive/21-1 summer\n"
     ]
    }
   ],
   "source": [
    "cd drive/MyDrive/21-1 summer"
   ]
  },
  {
   "cell_type": "code",
   "execution_count": 4,
   "metadata": {
    "id": "JxXvfd4-8JfU"
   },
   "outputs": [],
   "source": [
    "#패키지 불러오기\n",
    "import pandas as pd \n",
    "import numpy as np\n",
    "\n",
    "import random\n",
    "import os"
   ]
  },
  {
   "cell_type": "code",
   "execution_count": 5,
   "metadata": {
    "id": "LVoGwEGU8KeE"
   },
   "outputs": [],
   "source": [
    "SEED = 1234\n",
    "\n",
    "# Function to seed everything\n",
    "def seed_everything(seed):\n",
    "    random.seed(seed)\n",
    "    np.random.seed(seed)\n",
    "    os.environ['PYTHONHASHSEED'] = str(seed)\n",
    "    \n",
    "seed_everything(SEED) # 시드 값 고정"
   ]
  },
  {
   "cell_type": "code",
   "execution_count": 6,
   "metadata": {
    "id": "JwCAcxUB8Kw8"
   },
   "outputs": [],
   "source": [
    "# 데이터 불러오기\n",
    "data = pd.read_csv('train_pca.csv')\n",
    "X = data.drop(columns = 'target')\n",
    "Y = data.target"
   ]
  },
  {
   "cell_type": "markdown",
   "metadata": {
    "id": "UM0w46eDPV93"
   },
   "source": [
    "# 2. 모델링"
   ]
  },
  {
   "cell_type": "code",
   "execution_count": 7,
   "metadata": {
    "id": "hV6EdCjx_Mb1"
   },
   "outputs": [],
   "source": [
    "import xgboost as xgb\n",
    "dtrain = xgb.DMatrix(X, Y) # XGBoost용 데이터로 변환"
   ]
  },
  {
   "cell_type": "markdown",
   "metadata": {
    "id": "-_dmyBymSw42"
   },
   "source": [
    "사용 모델 : Xgboost   \n",
    "파라미터 튜닝 방법 : Gridsearch 5-fold CV\n",
    "\n",
    "Target값의 불균형은 xgboost 모델링 과정에서 `scale_pos_weight`파라미터를 조정했습니다.  \n",
    "`scale_pos_weight = count(Negative class)/count(Positive class)`  \n",
    "긍부정의 비율이 1:9로 `scale_pos_weight`값은 초기에 `9`로 설정했으나 `sqrt(9)`값이 더 좋은 성능을 보여 후에 수정했습니다.  \n",
    "CV를 통해 파라미터를 조정한 결과 아래와 같은 조합이 F1score가 가장 높게 나왔습니다.\n"
   ]
  },
  {
   "cell_type": "code",
   "execution_count": 8,
   "metadata": {
    "id": "cA4i1reB_OdV"
   },
   "outputs": [],
   "source": [
    "# 최종 Parameter 저장\n",
    "params = {}\n",
    "params['objective'] = 'binary:logistic'\n",
    "params['seed'] = 1234\n",
    "params['scale_pos_weight'] = np.sqrt(9)\n",
    "params['eta'] = 0.1\n",
    "params['max_depth'] = 3\n",
    "params['min_child_weight'] = 5\n",
    "params['subsample'] = 0.2\n",
    "params['colsample_bytree'] = 0.6\n",
    "params['eta'] = 0.1\n",
    "params['gamma'] = 0"
   ]
  },
  {
   "cell_type": "code",
   "execution_count": 9,
   "metadata": {
    "id": "BCFVnJRP_XLM"
   },
   "outputs": [],
   "source": [
    "model = xgb.train(params, dtrain, 79)"
   ]
  },
  {
   "cell_type": "code",
   "execution_count": 11,
   "metadata": {
    "id": "O9qSKyZw_YnN"
   },
   "outputs": [],
   "source": [
    "# 모델 저장\n",
    "import pickle\n",
    "\n",
    "Pkl_Filename = \"pickle.pkl\"  \n",
    "\n",
    "with open(Pkl_Filename, 'wb') as file:  \n",
    "    pickle.dump(model, file)"
   ]
  }
 ],
 "metadata": {
  "colab": {
   "collapsed_sections": [],
   "name": "4팀 Modeling.ipynb",
   "provenance": []
  },
  "kernelspec": {
   "display_name": "Python 3",
   "language": "python",
   "name": "python3"
  },
  "language_info": {
   "codemirror_mode": {
    "name": "ipython",
    "version": 3
   },
   "file_extension": ".py",
   "mimetype": "text/x-python",
   "name": "python",
   "nbconvert_exporter": "python",
   "pygments_lexer": "ipython3",
   "version": "3.9.4"
  }
 },
 "nbformat": 4,
 "nbformat_minor": 1
}
