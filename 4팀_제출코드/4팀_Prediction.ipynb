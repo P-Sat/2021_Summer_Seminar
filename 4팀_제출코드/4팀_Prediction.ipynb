{
 "cells": [
  {
   "cell_type": "markdown",
   "metadata": {
    "id": "zpkqiAMOQiQm"
   },
   "source": [
    "# 1. 디렉토리, 라이브러리 불러오기"
   ]
  },
  {
   "cell_type": "code",
   "execution_count": 30,
   "metadata": {
    "colab": {
     "base_uri": "https://localhost:8080/"
    },
    "id": "r19xpOx__e44",
    "outputId": "5cbd3b65-8777-4d69-cb9f-4529f39eb589"
   },
   "outputs": [
    {
     "name": "stdout",
     "output_type": "stream",
     "text": [
      "/content/drive/MyDrive/21-1 summer\n"
     ]
    }
   ],
   "source": [
    "cd drive/MyDrive/21-1 summer"
   ]
  },
  {
   "cell_type": "code",
   "execution_count": 25,
   "metadata": {
    "id": "wz_WBWVU_fyI"
   },
   "outputs": [],
   "source": [
    "#패키지 불러오기\n",
    "import pandas as pd  \n",
    "import numpy as np\n",
    "\n",
    "import random\n",
    "import os\n",
    "import xgboost as xgb"
   ]
  },
  {
   "cell_type": "code",
   "execution_count": 26,
   "metadata": {
    "id": "-eJXruGO_hnk"
   },
   "outputs": [],
   "source": [
    "SEED = 1234 \n",
    "\n",
    "# Function to seed everything\n",
    "def seed_everything(seed):\n",
    "    random.seed(seed)\n",
    "    np.random.seed(seed)\n",
    "    os.environ['PYTHONHASHSEED'] = str(seed)\n",
    "    \n",
    "seed_everything(SEED) # 시드 값 고정"
   ]
  },
  {
   "cell_type": "markdown",
   "metadata": {
    "id": "0_JxwrzAQ1uJ"
   },
   "source": [
    "\n",
    "# 2. 데이터 불러오기 및 전처리 \n"
   ]
  },
  {
   "cell_type": "code",
   "execution_count": 31,
   "metadata": {
    "id": "fGldJ1IF_jOk"
   },
   "outputs": [],
   "source": [
    "# 모델 불러오기\n",
    "import pickle\n",
    "xgbmodel = pickle.load(open(\"pickle.pkl\" , 'rb'))"
   ]
  },
  {
   "cell_type": "code",
   "execution_count": 123,
   "metadata": {
    "id": "4612y0UA_k-0"
   },
   "outputs": [],
   "source": [
    "# 데이터 불러오기\n",
    "test = pd.read_csv('test_pca.csv')\n",
    "dtest = xgb.DMatrix(test) # XGBoost용 데이터로 변환"
   ]
  },
  {
   "cell_type": "markdown",
   "metadata": {
    "id": "Rjzt4QcUQ6fw"
   },
   "source": [
    "\n",
    "# 3. Test Prediction \n"
   ]
  },
  {
   "cell_type": "code",
   "execution_count": 78,
   "metadata": {
    "id": "qJ-_gBbr_nHk"
   },
   "outputs": [],
   "source": [
    "pred = xgbmodel.predict(dtest)\n",
    "\n",
    "# target값에 맞게 0 또는 1로 변경\n",
    "pred[(pred >= 0.5)] = 1\n",
    "pred[(pred < 0.5)] = 0"
   ]
  },
  {
   "cell_type": "code",
   "execution_count": 79,
   "metadata": {
    "colab": {
     "base_uri": "https://localhost:8080/"
    },
    "id": "ZyTRxYgFVk-Z",
    "outputId": "84cdf797-754c-4d13-fcad-1f425445f044",
    "scrolled": false
   },
   "outputs": [
    {
     "data": {
      "text/plain": [
       "206.0"
      ]
     },
     "execution_count": 79,
     "metadata": {
      "tags": []
     },
     "output_type": "execute_result"
    }
   ],
   "source": [
    "pred.sum(axis=0)"
   ]
  },
  {
   "cell_type": "markdown",
   "metadata": {
    "id": "SlsrWFAHRCQw"
   },
   "source": [
    "\n",
    "# 4. 최종 제출 파일 저장\n"
   ]
  },
  {
   "cell_type": "code",
   "execution_count": 80,
   "metadata": {
    "colab": {
     "base_uri": "https://localhost:8080/",
     "height": 205
    },
    "id": "d0FDcwbp_si0",
    "outputId": "a5c28e8f-b104-482a-c11a-318f1d88ac92"
   },
   "outputs": [
    {
     "data": {
      "text/html": [
       "<div>\n",
       "<style scoped>\n",
       "    .dataframe tbody tr th:only-of-type {\n",
       "        vertical-align: middle;\n",
       "    }\n",
       "\n",
       "    .dataframe tbody tr th {\n",
       "        vertical-align: top;\n",
       "    }\n",
       "\n",
       "    .dataframe thead th {\n",
       "        text-align: right;\n",
       "    }\n",
       "</style>\n",
       "<table border=\"1\" class=\"dataframe\">\n",
       "  <thead>\n",
       "    <tr style=\"text-align: right;\">\n",
       "      <th></th>\n",
       "      <th>id</th>\n",
       "      <th>target</th>\n",
       "    </tr>\n",
       "  </thead>\n",
       "  <tbody>\n",
       "    <tr>\n",
       "      <th>0</th>\n",
       "      <td>1</td>\n",
       "      <td>0.0</td>\n",
       "    </tr>\n",
       "    <tr>\n",
       "      <th>1</th>\n",
       "      <td>2</td>\n",
       "      <td>0.0</td>\n",
       "    </tr>\n",
       "    <tr>\n",
       "      <th>2</th>\n",
       "      <td>3</td>\n",
       "      <td>0.0</td>\n",
       "    </tr>\n",
       "    <tr>\n",
       "      <th>3</th>\n",
       "      <td>4</td>\n",
       "      <td>0.0</td>\n",
       "    </tr>\n",
       "    <tr>\n",
       "      <th>4</th>\n",
       "      <td>5</td>\n",
       "      <td>0.0</td>\n",
       "    </tr>\n",
       "  </tbody>\n",
       "</table>\n",
       "</div>"
      ],
      "text/plain": [
       "   id  target\n",
       "0   1     0.0\n",
       "1   2     0.0\n",
       "2   3     0.0\n",
       "3   4     0.0\n",
       "4   5     0.0"
      ]
     },
     "execution_count": 80,
     "metadata": {
      "tags": []
     },
     "output_type": "execute_result"
    }
   ],
   "source": [
    "id = list(range(1,2001))\n",
    "submission=pd.DataFrame({'id':id,'target':pred})\n",
    "submission.head()"
   ]
  },
  {
   "cell_type": "code",
   "execution_count": 81,
   "metadata": {
    "colab": {
     "base_uri": "https://localhost:8080/"
    },
    "id": "xRC50Nra_xFt",
    "outputId": "cc4a2e3d-3d89-4be8-9db7-3e49323bd7da"
   },
   "outputs": [
    {
     "data": {
      "text/plain": [
       "206.0"
      ]
     },
     "execution_count": 81,
     "metadata": {
      "tags": []
     },
     "output_type": "execute_result"
    }
   ],
   "source": [
    "submission.target.sum(axis=0)"
   ]
  },
  {
   "cell_type": "code",
   "execution_count": 82,
   "metadata": {
    "id": "XuQkXGWc_xbE"
   },
   "outputs": [],
   "source": [
    "submission.to_csv('submission.csv',index=False)"
   ]
  }
 ],
 "metadata": {
  "colab": {
   "collapsed_sections": [],
   "name": "4팀 Prediction.ipynb",
   "provenance": []
  },
  "kernelspec": {
   "display_name": "Python 3",
   "language": "python",
   "name": "python3"
  },
  "language_info": {
   "codemirror_mode": {
    "name": "ipython",
    "version": 3
   },
   "file_extension": ".py",
   "mimetype": "text/x-python",
   "name": "python",
   "nbconvert_exporter": "python",
   "pygments_lexer": "ipython3",
   "version": "3.9.4"
  }
 },
 "nbformat": 4,
 "nbformat_minor": 1
}
